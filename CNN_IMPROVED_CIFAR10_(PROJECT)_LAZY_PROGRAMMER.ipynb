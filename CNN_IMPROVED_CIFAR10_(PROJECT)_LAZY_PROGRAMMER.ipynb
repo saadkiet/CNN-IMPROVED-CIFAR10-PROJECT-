{
  "nbformat": 4,
  "nbformat_minor": 0,
  "metadata": {
    "colab": {
      "name": "TF2.1 CNN IMPROVED CIFAR10 (PROJECT).LAZY PROGRAMMER.ipynb",
      "provenance": [],
      "collapsed_sections": [],
      "toc_visible": true,
      "authorship_tag": "ABX9TyO04Cf3cu1FrKEhwtLU5Y/4",
      "include_colab_link": true
    },
    "kernelspec": {
      "name": "python3",
      "display_name": "Python 3"
    },
    "accelerator": "GPU"
  },
  "cells": [
    {
      "cell_type": "markdown",
      "metadata": {
        "id": "view-in-github",
        "colab_type": "text"
      },
      "source": [
        "<a href=\"https://colab.research.google.com/github/saadkiet/CNN-IMPROVED-CIFAR10-PROJECT-/blob/master/CNN_IMPROVED_CIFAR10_(PROJECT)_LAZY_PROGRAMMER.ipynb\" target=\"_parent\"><img src=\"https://colab.research.google.com/assets/colab-badge.svg\" alt=\"Open In Colab\"/></a>"
      ]
    },
    {
      "cell_type": "markdown",
      "metadata": {
        "id": "bLa3C_yoTFH8",
        "colab_type": "text"
      },
      "source": [
        "# Step 1 : Step up and Install"
      ]
    },
    {
      "cell_type": "code",
      "metadata": {
        "id": "QA7dK9MD3wy7",
        "colab_type": "code",
        "outputId": "96f0cf92-f511-463b-aec6-d9fd2e91e59a",
        "colab": {
          "base_uri": "https://localhost:8080/",
          "height": 1000
        }
      },
      "source": [
        "pip install tensorflow-gpu"
      ],
      "execution_count": 0,
      "outputs": [
        {
          "output_type": "stream",
          "text": [
            "Collecting tensorflow-gpu\n",
            "\u001b[?25l  Downloading https://files.pythonhosted.org/packages/0a/93/c7bca39b23aae45cd2e85ad3871c81eccc63b9c5276e926511e2e5b0879d/tensorflow_gpu-2.1.0-cp36-cp36m-manylinux2010_x86_64.whl (421.8MB)\n",
            "\u001b[K     |████████████████████████████████| 421.8MB 34kB/s \n",
            "\u001b[?25hRequirement already satisfied: astor>=0.6.0 in /usr/local/lib/python3.6/dist-packages (from tensorflow-gpu) (0.8.1)\n",
            "Requirement already satisfied: wheel>=0.26; python_version >= \"3\" in /usr/local/lib/python3.6/dist-packages (from tensorflow-gpu) (0.34.2)\n",
            "Collecting tensorboard<2.2.0,>=2.1.0\n",
            "\u001b[?25l  Downloading https://files.pythonhosted.org/packages/d9/41/bbf49b61370e4f4d245d4c6051dfb6db80cec672605c91b1652ac8cc3d38/tensorboard-2.1.1-py3-none-any.whl (3.8MB)\n",
            "\u001b[K     |████████████████████████████████| 3.9MB 50.5MB/s \n",
            "\u001b[?25hRequirement already satisfied: numpy<2.0,>=1.16.0 in /usr/local/lib/python3.6/dist-packages (from tensorflow-gpu) (1.18.2)\n",
            "Requirement already satisfied: grpcio>=1.8.6 in /usr/local/lib/python3.6/dist-packages (from tensorflow-gpu) (1.28.1)\n",
            "Collecting gast==0.2.2\n",
            "  Downloading https://files.pythonhosted.org/packages/4e/35/11749bf99b2d4e3cceb4d55ca22590b0d7c2c62b9de38ac4a4a7f4687421/gast-0.2.2.tar.gz\n",
            "Requirement already satisfied: scipy==1.4.1; python_version >= \"3\" in /usr/local/lib/python3.6/dist-packages (from tensorflow-gpu) (1.4.1)\n",
            "Requirement already satisfied: opt-einsum>=2.3.2 in /usr/local/lib/python3.6/dist-packages (from tensorflow-gpu) (3.2.0)\n",
            "Requirement already satisfied: termcolor>=1.1.0 in /usr/local/lib/python3.6/dist-packages (from tensorflow-gpu) (1.1.0)\n",
            "Requirement already satisfied: protobuf>=3.8.0 in /usr/local/lib/python3.6/dist-packages (from tensorflow-gpu) (3.10.0)\n",
            "Requirement already satisfied: wrapt>=1.11.1 in /usr/local/lib/python3.6/dist-packages (from tensorflow-gpu) (1.12.1)\n",
            "Requirement already satisfied: keras-applications>=1.0.8 in /usr/local/lib/python3.6/dist-packages (from tensorflow-gpu) (1.0.8)\n",
            "Requirement already satisfied: google-pasta>=0.1.6 in /usr/local/lib/python3.6/dist-packages (from tensorflow-gpu) (0.2.0)\n",
            "Collecting tensorflow-estimator<2.2.0,>=2.1.0rc0\n",
            "\u001b[?25l  Downloading https://files.pythonhosted.org/packages/18/90/b77c328a1304437ab1310b463e533fa7689f4bfc41549593056d812fab8e/tensorflow_estimator-2.1.0-py2.py3-none-any.whl (448kB)\n",
            "\u001b[K     |████████████████████████████████| 450kB 49.1MB/s \n",
            "\u001b[?25hRequirement already satisfied: keras-preprocessing>=1.1.0 in /usr/local/lib/python3.6/dist-packages (from tensorflow-gpu) (1.1.0)\n",
            "Requirement already satisfied: six>=1.12.0 in /usr/local/lib/python3.6/dist-packages (from tensorflow-gpu) (1.12.0)\n",
            "Requirement already satisfied: absl-py>=0.7.0 in /usr/local/lib/python3.6/dist-packages (from tensorflow-gpu) (0.9.0)\n",
            "Requirement already satisfied: requests<3,>=2.21.0 in /usr/local/lib/python3.6/dist-packages (from tensorboard<2.2.0,>=2.1.0->tensorflow-gpu) (2.21.0)\n",
            "Requirement already satisfied: werkzeug>=0.11.15 in /usr/local/lib/python3.6/dist-packages (from tensorboard<2.2.0,>=2.1.0->tensorflow-gpu) (1.0.1)\n",
            "Requirement already satisfied: google-auth-oauthlib<0.5,>=0.4.1 in /usr/local/lib/python3.6/dist-packages (from tensorboard<2.2.0,>=2.1.0->tensorflow-gpu) (0.4.1)\n",
            "Requirement already satisfied: markdown>=2.6.8 in /usr/local/lib/python3.6/dist-packages (from tensorboard<2.2.0,>=2.1.0->tensorflow-gpu) (3.2.1)\n",
            "Requirement already satisfied: google-auth<2,>=1.6.3 in /usr/local/lib/python3.6/dist-packages (from tensorboard<2.2.0,>=2.1.0->tensorflow-gpu) (1.7.2)\n",
            "Requirement already satisfied: setuptools>=41.0.0 in /usr/local/lib/python3.6/dist-packages (from tensorboard<2.2.0,>=2.1.0->tensorflow-gpu) (46.1.3)\n",
            "Requirement already satisfied: h5py in /usr/local/lib/python3.6/dist-packages (from keras-applications>=1.0.8->tensorflow-gpu) (2.10.0)\n",
            "Requirement already satisfied: certifi>=2017.4.17 in /usr/local/lib/python3.6/dist-packages (from requests<3,>=2.21.0->tensorboard<2.2.0,>=2.1.0->tensorflow-gpu) (2020.4.5.1)\n",
            "Requirement already satisfied: chardet<3.1.0,>=3.0.2 in /usr/local/lib/python3.6/dist-packages (from requests<3,>=2.21.0->tensorboard<2.2.0,>=2.1.0->tensorflow-gpu) (3.0.4)\n",
            "Requirement already satisfied: idna<2.9,>=2.5 in /usr/local/lib/python3.6/dist-packages (from requests<3,>=2.21.0->tensorboard<2.2.0,>=2.1.0->tensorflow-gpu) (2.8)\n",
            "Requirement already satisfied: urllib3<1.25,>=1.21.1 in /usr/local/lib/python3.6/dist-packages (from requests<3,>=2.21.0->tensorboard<2.2.0,>=2.1.0->tensorflow-gpu) (1.24.3)\n",
            "Requirement already satisfied: requests-oauthlib>=0.7.0 in /usr/local/lib/python3.6/dist-packages (from google-auth-oauthlib<0.5,>=0.4.1->tensorboard<2.2.0,>=2.1.0->tensorflow-gpu) (1.3.0)\n",
            "Requirement already satisfied: rsa<4.1,>=3.1.4 in /usr/local/lib/python3.6/dist-packages (from google-auth<2,>=1.6.3->tensorboard<2.2.0,>=2.1.0->tensorflow-gpu) (4.0)\n",
            "Requirement already satisfied: cachetools<3.2,>=2.0.0 in /usr/local/lib/python3.6/dist-packages (from google-auth<2,>=1.6.3->tensorboard<2.2.0,>=2.1.0->tensorflow-gpu) (3.1.1)\n",
            "Requirement already satisfied: pyasn1-modules>=0.2.1 in /usr/local/lib/python3.6/dist-packages (from google-auth<2,>=1.6.3->tensorboard<2.2.0,>=2.1.0->tensorflow-gpu) (0.2.8)\n",
            "Requirement already satisfied: oauthlib>=3.0.0 in /usr/local/lib/python3.6/dist-packages (from requests-oauthlib>=0.7.0->google-auth-oauthlib<0.5,>=0.4.1->tensorboard<2.2.0,>=2.1.0->tensorflow-gpu) (3.1.0)\n",
            "Requirement already satisfied: pyasn1>=0.1.3 in /usr/local/lib/python3.6/dist-packages (from rsa<4.1,>=3.1.4->google-auth<2,>=1.6.3->tensorboard<2.2.0,>=2.1.0->tensorflow-gpu) (0.4.8)\n",
            "Building wheels for collected packages: gast\n",
            "  Building wheel for gast (setup.py) ... \u001b[?25l\u001b[?25hdone\n",
            "  Created wheel for gast: filename=gast-0.2.2-cp36-none-any.whl size=7540 sha256=ab320b740a2a28b14cb9d52909daeb294767f046c8fb277d7b367017c613992d\n",
            "  Stored in directory: /root/.cache/pip/wheels/5c/2e/7e/a1d4d4fcebe6c381f378ce7743a3ced3699feb89bcfbdadadd\n",
            "Successfully built gast\n",
            "\u001b[31mERROR: tensorflow 2.2.0rc3 has requirement gast==0.3.3, but you'll have gast 0.2.2 which is incompatible.\u001b[0m\n",
            "\u001b[31mERROR: tensorflow 2.2.0rc3 has requirement tensorboard<2.3.0,>=2.2.0, but you'll have tensorboard 2.1.1 which is incompatible.\u001b[0m\n",
            "\u001b[31mERROR: tensorflow 2.2.0rc3 has requirement tensorflow-estimator<2.3.0,>=2.2.0rc0, but you'll have tensorflow-estimator 2.1.0 which is incompatible.\u001b[0m\n",
            "Installing collected packages: tensorboard, gast, tensorflow-estimator, tensorflow-gpu\n",
            "  Found existing installation: tensorboard 2.2.0\n",
            "    Uninstalling tensorboard-2.2.0:\n",
            "      Successfully uninstalled tensorboard-2.2.0\n",
            "  Found existing installation: gast 0.3.3\n",
            "    Uninstalling gast-0.3.3:\n",
            "      Successfully uninstalled gast-0.3.3\n",
            "  Found existing installation: tensorflow-estimator 2.2.0rc0\n",
            "    Uninstalling tensorflow-estimator-2.2.0rc0:\n",
            "      Successfully uninstalled tensorflow-estimator-2.2.0rc0\n",
            "Successfully installed gast-0.2.2 tensorboard-2.1.1 tensorflow-estimator-2.1.0 tensorflow-gpu-2.1.0\n"
          ],
          "name": "stdout"
        }
      ]
    },
    {
      "cell_type": "code",
      "metadata": {
        "id": "pqDymMLV3yg9",
        "colab_type": "code",
        "colab": {}
      },
      "source": [
        "import tensorflow as tf\n",
        "import pandas as pd\n",
        "import numpy as np\n",
        "import matplotlib.pyplot as plt\n",
        "from tensorflow.keras.models import Model"
      ],
      "execution_count": 0,
      "outputs": []
    },
    {
      "cell_type": "code",
      "metadata": {
        "id": "vgFpyjMV9jlZ",
        "colab_type": "code",
        "colab": {}
      },
      "source": [
        "from tensorflow.keras.layers import Input, Conv2D, Dense, Flatten, Dropout, GlobalMaxPooling2D, MaxPooling2D, BatchNormalization"
      ],
      "execution_count": 0,
      "outputs": []
    },
    {
      "cell_type": "code",
      "metadata": {
        "id": "i0w6C8AA9mNM",
        "colab_type": "code",
        "outputId": "d53968be-8bbe-47a5-81ce-04df265e8c10",
        "colab": {
          "base_uri": "https://localhost:8080/",
          "height": 34
        }
      },
      "source": [
        "print(tf.__version__)"
      ],
      "execution_count": 0,
      "outputs": [
        {
          "output_type": "stream",
          "text": [
            "2.1.0\n"
          ],
          "name": "stdout"
        }
      ]
    },
    {
      "cell_type": "markdown",
      "metadata": {
        "id": "IITior7HTe9O",
        "colab_type": "text"
      },
      "source": [
        "# Step 2 : Importing CIFAR10 Dataset"
      ]
    },
    {
      "cell_type": "code",
      "metadata": {
        "id": "3M7yaNc59onX",
        "colab_type": "code",
        "colab": {}
      },
      "source": [
        "from tensorflow.keras.datasets import cifar10"
      ],
      "execution_count": 0,
      "outputs": []
    },
    {
      "cell_type": "code",
      "metadata": {
        "id": "XVSPCg6e9qww",
        "colab_type": "code",
        "outputId": "e9dab910-0262-42da-b510-b8cbac7cf75b",
        "colab": {
          "base_uri": "https://localhost:8080/",
          "height": 51
        }
      },
      "source": [
        "(xtrain,ytrain),(xtest,ytest)=cifar10.load_data()"
      ],
      "execution_count": 0,
      "outputs": [
        {
          "output_type": "stream",
          "text": [
            "Downloading data from https://www.cs.toronto.edu/~kriz/cifar-10-python.tar.gz\n",
            "170500096/170498071 [==============================] - 6s 0us/step\n"
          ],
          "name": "stdout"
        }
      ]
    },
    {
      "cell_type": "code",
      "metadata": {
        "id": "U1Fvjalc9sdu",
        "colab_type": "code",
        "outputId": "696a0c87-a7c2-4ebc-d250-03eca94cd7fb",
        "colab": {
          "base_uri": "https://localhost:8080/",
          "height": 34
        }
      },
      "source": [
        "xtrain.shape, ytrain.shape"
      ],
      "execution_count": 0,
      "outputs": [
        {
          "output_type": "execute_result",
          "data": {
            "text/plain": [
              "((50000, 32, 32, 3), (50000, 1))"
            ]
          },
          "metadata": {
            "tags": []
          },
          "execution_count": 7
        }
      ]
    },
    {
      "cell_type": "code",
      "metadata": {
        "id": "C-smb10L9vP5",
        "colab_type": "code",
        "colab": {}
      },
      "source": [
        "xtrain,xtest=xtrain/255,xtest/255"
      ],
      "execution_count": 0,
      "outputs": []
    },
    {
      "cell_type": "code",
      "metadata": {
        "id": "jL7569lP9xET",
        "colab_type": "code",
        "colab": {}
      },
      "source": [
        "ytrain,ytest=ytrain.flatten(),ytest.flatten()"
      ],
      "execution_count": 0,
      "outputs": []
    },
    {
      "cell_type": "code",
      "metadata": {
        "id": "fKS0UXbx9yxN",
        "colab_type": "code",
        "outputId": "03fd1e46-026f-4326-e211-e7d4ee9cfb34",
        "colab": {
          "base_uri": "https://localhost:8080/",
          "height": 34
        }
      },
      "source": [
        "ytrain.shape"
      ],
      "execution_count": 0,
      "outputs": [
        {
          "output_type": "execute_result",
          "data": {
            "text/plain": [
              "(50000,)"
            ]
          },
          "metadata": {
            "tags": []
          },
          "execution_count": 10
        }
      ]
    },
    {
      "cell_type": "code",
      "metadata": {
        "id": "nxza-B_-92HE",
        "colab_type": "code",
        "outputId": "0d149107-f1fc-49ca-cbde-8085f87fafd8",
        "colab": {
          "base_uri": "https://localhost:8080/",
          "height": 34
        }
      },
      "source": [
        "xtrain.max(),xtrain.min()"
      ],
      "execution_count": 0,
      "outputs": [
        {
          "output_type": "execute_result",
          "data": {
            "text/plain": [
              "(1.0, 0.0)"
            ]
          },
          "metadata": {
            "tags": []
          },
          "execution_count": 11
        }
      ]
    },
    {
      "cell_type": "code",
      "metadata": {
        "id": "iG2j1ngH94QA",
        "colab_type": "code",
        "colab": {}
      },
      "source": [
        "class_names = ['0: airplane', '1: automobile', '2: bird', '3: cat', '4: deer', '5: dog', '6: frog', '7: horse', '8: ship', '9: truck']"
      ],
      "execution_count": 0,
      "outputs": []
    },
    {
      "cell_type": "code",
      "metadata": {
        "id": "Lhzaz3jm97DS",
        "colab_type": "code",
        "outputId": "188209ba-da5d-4d6c-e358-8fcaed89927c",
        "colab": {
          "base_uri": "https://localhost:8080/",
          "height": 34
        }
      },
      "source": [
        "print(class_names)"
      ],
      "execution_count": 0,
      "outputs": [
        {
          "output_type": "stream",
          "text": [
            "['0: airplane', '1: automobile', '2: bird', '3: cat', '4: deer', '5: dog', '6: frog', '7: horse', '8: ship', '9: truck']\n"
          ],
          "name": "stdout"
        }
      ]
    },
    {
      "cell_type": "code",
      "metadata": {
        "id": "T4u-yKkf9-b8",
        "colab_type": "code",
        "outputId": "29ab89f8-2e9e-422c-b5c0-baaebdaf9d19",
        "colab": {
          "base_uri": "https://localhost:8080/",
          "height": 34
        }
      },
      "source": [
        "xtrain[0].shape"
      ],
      "execution_count": 0,
      "outputs": [
        {
          "output_type": "execute_result",
          "data": {
            "text/plain": [
              "(32, 32, 3)"
            ]
          },
          "metadata": {
            "tags": []
          },
          "execution_count": 14
        }
      ]
    },
    {
      "cell_type": "markdown",
      "metadata": {
        "id": "FmrsyTz9Tlui",
        "colab_type": "text"
      },
      "source": [
        "# Step 3 : Building The CNN model"
      ]
    },
    {
      "cell_type": "code",
      "metadata": {
        "id": "V7Wz4H-N-AkP",
        "colab_type": "code",
        "colab": {}
      },
      "source": [
        "# Build the model using the functional API\n",
        "#i = Input(shape=xtrain[0].shape)\n",
        "#x = Conv2D(32, (3, 3), strides=2, activation='relu',padding='same')(i)\n",
        "\n",
        "#x = Conv2D(64, (3, 3), strides=2, activation='relu',padding='same')(x)\n",
        "\n",
        "#x = Conv2D(128, (3, 3), strides=2, activation='relu',padding='same')(x)\n",
        "\n",
        "#x = Flatten()(x)\n",
        "#x = Dropout(0.3)(x)\n",
        "#x = Dense(1024, activation='relu')(x)\n",
        "#x = Dropout(0.3)(x)\n",
        "#x = Dense(10, activation='softmax')(x)\n",
        "\n",
        "#model = Model(i, x)"
      ],
      "execution_count": 0,
      "outputs": []
    },
    {
      "cell_type": "code",
      "metadata": {
        "id": "JPbVxMq4AdLS",
        "colab_type": "code",
        "colab": {}
      },
      "source": [
        "# Build the model using the functional API\n",
        "i = Input(shape=xtrain[0].shape)\n",
        "# x = Conv2D(32, (3, 3), strides=2, activation='relu')(i)\n",
        "# x = Conv2D(64, (3, 3), strides=2, activation='relu')(x)\n",
        "# x = Conv2D(128, (3, 3), strides=2, activation='relu')(x)\n",
        "\n",
        "x = Conv2D(32, (3, 3), activation='relu', padding='same')(i)\n",
        "x = BatchNormalization()(x)\n",
        "x = Conv2D(32, (3, 3), activation='relu', padding='same')(x)\n",
        "x = BatchNormalization()(x)\n",
        "x = MaxPooling2D((2, 2))(x)\n",
        "# x = Dropout(0.2)(x)\n",
        "x = Conv2D(64, (3, 3), activation='relu', padding='same')(x)\n",
        "x = BatchNormalization()(x)\n",
        "x = Conv2D(64, (3, 3), activation='relu', padding='same')(x)\n",
        "x = BatchNormalization()(x)\n",
        "x = MaxPooling2D((2, 2))(x)\n",
        "# x = Dropout(0.2)(x)\n",
        "x = Conv2D(128, (3, 3), activation='relu', padding='same')(x)\n",
        "x = BatchNormalization()(x)\n",
        "x = Conv2D(128, (3, 3), activation='relu', padding='same')(x)\n",
        "x = BatchNormalization()(x)\n",
        "x = MaxPooling2D((2, 2))(x)\n",
        "# x = Dropout(0.2)(x)\n",
        "\n",
        "# x = GlobalMaxPooling2D()(x)\n",
        "x = Flatten()(x)\n",
        "x = Dropout(0.2)(x)\n",
        "x = Dense(1024, activation='relu')(x)\n",
        "x = Dropout(0.2)(x)\n",
        "x = Dense(10, activation='softmax')(x)\n",
        "\n",
        "model = Model(i, x)"
      ],
      "execution_count": 0,
      "outputs": []
    },
    {
      "cell_type": "code",
      "metadata": {
        "id": "GDLhDPCABAUi",
        "colab_type": "code",
        "outputId": "4303f6c9-7a90-4175-aa24-8b8d64eea3d9",
        "colab": {
          "base_uri": "https://localhost:8080/",
          "height": 867
        }
      },
      "source": [
        "model.summary()"
      ],
      "execution_count": 0,
      "outputs": [
        {
          "output_type": "stream",
          "text": [
            "Model: \"model\"\n",
            "_________________________________________________________________\n",
            "Layer (type)                 Output Shape              Param #   \n",
            "=================================================================\n",
            "input_1 (InputLayer)         [(None, 32, 32, 3)]       0         \n",
            "_________________________________________________________________\n",
            "conv2d (Conv2D)              (None, 32, 32, 32)        896       \n",
            "_________________________________________________________________\n",
            "batch_normalization (BatchNo (None, 32, 32, 32)        128       \n",
            "_________________________________________________________________\n",
            "conv2d_1 (Conv2D)            (None, 32, 32, 32)        9248      \n",
            "_________________________________________________________________\n",
            "batch_normalization_1 (Batch (None, 32, 32, 32)        128       \n",
            "_________________________________________________________________\n",
            "max_pooling2d (MaxPooling2D) (None, 16, 16, 32)        0         \n",
            "_________________________________________________________________\n",
            "conv2d_2 (Conv2D)            (None, 16, 16, 64)        18496     \n",
            "_________________________________________________________________\n",
            "batch_normalization_2 (Batch (None, 16, 16, 64)        256       \n",
            "_________________________________________________________________\n",
            "conv2d_3 (Conv2D)            (None, 16, 16, 64)        36928     \n",
            "_________________________________________________________________\n",
            "batch_normalization_3 (Batch (None, 16, 16, 64)        256       \n",
            "_________________________________________________________________\n",
            "max_pooling2d_1 (MaxPooling2 (None, 8, 8, 64)          0         \n",
            "_________________________________________________________________\n",
            "conv2d_4 (Conv2D)            (None, 8, 8, 128)         73856     \n",
            "_________________________________________________________________\n",
            "batch_normalization_4 (Batch (None, 8, 8, 128)         512       \n",
            "_________________________________________________________________\n",
            "conv2d_5 (Conv2D)            (None, 8, 8, 128)         147584    \n",
            "_________________________________________________________________\n",
            "batch_normalization_5 (Batch (None, 8, 8, 128)         512       \n",
            "_________________________________________________________________\n",
            "max_pooling2d_2 (MaxPooling2 (None, 4, 4, 128)         0         \n",
            "_________________________________________________________________\n",
            "flatten (Flatten)            (None, 2048)              0         \n",
            "_________________________________________________________________\n",
            "dropout (Dropout)            (None, 2048)              0         \n",
            "_________________________________________________________________\n",
            "dense (Dense)                (None, 1024)              2098176   \n",
            "_________________________________________________________________\n",
            "dropout_1 (Dropout)          (None, 1024)              0         \n",
            "_________________________________________________________________\n",
            "dense_1 (Dense)              (None, 10)                10250     \n",
            "=================================================================\n",
            "Total params: 2,397,226\n",
            "Trainable params: 2,396,330\n",
            "Non-trainable params: 896\n",
            "_________________________________________________________________\n"
          ],
          "name": "stdout"
        }
      ]
    },
    {
      "cell_type": "code",
      "metadata": {
        "id": "U0Ka_IlWBB9-",
        "colab_type": "code",
        "colab": {}
      },
      "source": [
        "# Compile\n",
        "# Note: make sure you are using the GPU for this!\n",
        "model.compile(optimizer='adam',\n",
        "              loss='sparse_categorical_crossentropy',\n",
        "              metrics=['accuracy'])"
      ],
      "execution_count": 0,
      "outputs": []
    },
    {
      "cell_type": "code",
      "metadata": {
        "id": "tCeyysA7BOAz",
        "colab_type": "code",
        "outputId": "1a1205b3-9edd-4a09-80c9-56c881936ce4",
        "colab": {
          "base_uri": "https://localhost:8080/",
          "height": 1000
        }
      },
      "source": [
        "# Fit\n",
        "r = model.fit(xtrain, ytrain, validation_data=(xtest, ytest), epochs=50)"
      ],
      "execution_count": 0,
      "outputs": [
        {
          "output_type": "stream",
          "text": [
            "Train on 50000 samples, validate on 10000 samples\n",
            "Epoch 1/50\n",
            "50000/50000 [==============================] - 17s 339us/sample - loss: 1.2757 - accuracy: 0.5626 - val_loss: 1.0148 - val_accuracy: 0.6417\n",
            "Epoch 2/50\n",
            "50000/50000 [==============================] - 10s 202us/sample - loss: 0.8326 - accuracy: 0.7137 - val_loss: 0.7886 - val_accuracy: 0.7277\n",
            "Epoch 3/50\n",
            "50000/50000 [==============================] - 10s 202us/sample - loss: 0.6736 - accuracy: 0.7677 - val_loss: 0.6720 - val_accuracy: 0.7732\n",
            "Epoch 4/50\n",
            "50000/50000 [==============================] - 10s 202us/sample - loss: 0.5653 - accuracy: 0.8080 - val_loss: 0.6780 - val_accuracy: 0.7795\n",
            "Epoch 5/50\n",
            "50000/50000 [==============================] - 10s 204us/sample - loss: 0.4798 - accuracy: 0.8361 - val_loss: 0.8310 - val_accuracy: 0.7536\n",
            "Epoch 6/50\n",
            "50000/50000 [==============================] - 10s 202us/sample - loss: 0.4092 - accuracy: 0.8597 - val_loss: 0.6611 - val_accuracy: 0.7890\n",
            "Epoch 7/50\n",
            "50000/50000 [==============================] - 10s 201us/sample - loss: 0.3437 - accuracy: 0.8815 - val_loss: 0.6679 - val_accuracy: 0.8018\n",
            "Epoch 8/50\n",
            "50000/50000 [==============================] - 10s 203us/sample - loss: 0.3052 - accuracy: 0.8934 - val_loss: 0.6798 - val_accuracy: 0.8014\n",
            "Epoch 9/50\n",
            "50000/50000 [==============================] - 10s 202us/sample - loss: 0.2501 - accuracy: 0.9133 - val_loss: 0.6868 - val_accuracy: 0.7950\n",
            "Epoch 10/50\n",
            "50000/50000 [==============================] - 10s 203us/sample - loss: 0.2195 - accuracy: 0.9247 - val_loss: 0.6261 - val_accuracy: 0.8200\n",
            "Epoch 11/50\n",
            "50000/50000 [==============================] - 10s 202us/sample - loss: 0.1925 - accuracy: 0.9350 - val_loss: 0.7086 - val_accuracy: 0.8072\n",
            "Epoch 12/50\n",
            "50000/50000 [==============================] - 10s 202us/sample - loss: 0.1725 - accuracy: 0.9412 - val_loss: 0.6753 - val_accuracy: 0.8263\n",
            "Epoch 13/50\n",
            "50000/50000 [==============================] - 10s 205us/sample - loss: 0.1561 - accuracy: 0.9469 - val_loss: 0.7386 - val_accuracy: 0.8153\n",
            "Epoch 14/50\n",
            "50000/50000 [==============================] - 10s 202us/sample - loss: 0.1427 - accuracy: 0.9514 - val_loss: 0.7118 - val_accuracy: 0.8277\n",
            "Epoch 15/50\n",
            "50000/50000 [==============================] - 10s 202us/sample - loss: 0.1297 - accuracy: 0.9570 - val_loss: 0.7474 - val_accuracy: 0.8293\n",
            "Epoch 16/50\n",
            "50000/50000 [==============================] - 10s 202us/sample - loss: 0.1244 - accuracy: 0.9581 - val_loss: 0.6921 - val_accuracy: 0.8317\n",
            "Epoch 17/50\n",
            "50000/50000 [==============================] - 10s 201us/sample - loss: 0.1127 - accuracy: 0.9619 - val_loss: 0.7568 - val_accuracy: 0.8320\n",
            "Epoch 18/50\n",
            "50000/50000 [==============================] - 10s 203us/sample - loss: 0.1092 - accuracy: 0.9636 - val_loss: 0.7690 - val_accuracy: 0.8388\n",
            "Epoch 19/50\n",
            "50000/50000 [==============================] - 10s 210us/sample - loss: 0.0974 - accuracy: 0.9670 - val_loss: 0.7718 - val_accuracy: 0.8292\n",
            "Epoch 20/50\n",
            "50000/50000 [==============================] - 10s 202us/sample - loss: 0.0965 - accuracy: 0.9681 - val_loss: 0.8576 - val_accuracy: 0.8333\n",
            "Epoch 21/50\n",
            "50000/50000 [==============================] - 10s 205us/sample - loss: 0.0970 - accuracy: 0.9680 - val_loss: 0.7627 - val_accuracy: 0.8333\n",
            "Epoch 22/50\n",
            "50000/50000 [==============================] - 10s 202us/sample - loss: 0.0883 - accuracy: 0.9710 - val_loss: 0.7734 - val_accuracy: 0.8333\n",
            "Epoch 23/50\n",
            "50000/50000 [==============================] - 10s 202us/sample - loss: 0.0838 - accuracy: 0.9728 - val_loss: 0.7994 - val_accuracy: 0.8238\n",
            "Epoch 24/50\n",
            "50000/50000 [==============================] - 10s 201us/sample - loss: 0.0794 - accuracy: 0.9739 - val_loss: 0.7878 - val_accuracy: 0.8354\n",
            "Epoch 25/50\n",
            "50000/50000 [==============================] - 10s 206us/sample - loss: 0.0755 - accuracy: 0.9755 - val_loss: 0.7461 - val_accuracy: 0.8345\n",
            "Epoch 26/50\n",
            "50000/50000 [==============================] - 10s 201us/sample - loss: 0.0725 - accuracy: 0.9759 - val_loss: 0.8958 - val_accuracy: 0.8244\n",
            "Epoch 27/50\n",
            "50000/50000 [==============================] - 10s 202us/sample - loss: 0.0678 - accuracy: 0.9780 - val_loss: 0.7241 - val_accuracy: 0.8399\n",
            "Epoch 28/50\n",
            "50000/50000 [==============================] - 10s 203us/sample - loss: 0.0624 - accuracy: 0.9796 - val_loss: 0.7874 - val_accuracy: 0.8386\n",
            "Epoch 29/50\n",
            "50000/50000 [==============================] - 10s 205us/sample - loss: 0.0664 - accuracy: 0.9785 - val_loss: 0.8013 - val_accuracy: 0.8409\n",
            "Epoch 30/50\n",
            "50000/50000 [==============================] - 10s 203us/sample - loss: 0.0646 - accuracy: 0.9796 - val_loss: 0.8096 - val_accuracy: 0.8328\n",
            "Epoch 31/50\n",
            "50000/50000 [==============================] - 10s 203us/sample - loss: 0.0593 - accuracy: 0.9801 - val_loss: 0.8076 - val_accuracy: 0.8398\n",
            "Epoch 32/50\n",
            "50000/50000 [==============================] - 10s 203us/sample - loss: 0.0580 - accuracy: 0.9810 - val_loss: 0.8071 - val_accuracy: 0.8353\n",
            "Epoch 33/50\n",
            "50000/50000 [==============================] - 10s 203us/sample - loss: 0.0573 - accuracy: 0.9814 - val_loss: 0.8081 - val_accuracy: 0.8365\n",
            "Epoch 34/50\n",
            "50000/50000 [==============================] - 10s 204us/sample - loss: 0.0537 - accuracy: 0.9822 - val_loss: 0.8812 - val_accuracy: 0.8413\n",
            "Epoch 35/50\n",
            "50000/50000 [==============================] - 10s 203us/sample - loss: 0.0543 - accuracy: 0.9825 - val_loss: 0.8211 - val_accuracy: 0.8336\n",
            "Epoch 36/50\n",
            "50000/50000 [==============================] - 10s 204us/sample - loss: 0.0515 - accuracy: 0.9829 - val_loss: 0.8309 - val_accuracy: 0.8382\n",
            "Epoch 37/50\n",
            "50000/50000 [==============================] - 10s 206us/sample - loss: 0.0485 - accuracy: 0.9843 - val_loss: 0.8385 - val_accuracy: 0.8401\n",
            "Epoch 38/50\n",
            "50000/50000 [==============================] - 10s 203us/sample - loss: 0.0519 - accuracy: 0.9835 - val_loss: 0.8190 - val_accuracy: 0.8386\n",
            "Epoch 39/50\n",
            "50000/50000 [==============================] - 10s 205us/sample - loss: 0.0471 - accuracy: 0.9842 - val_loss: 0.9197 - val_accuracy: 0.8398\n",
            "Epoch 40/50\n",
            "50000/50000 [==============================] - 10s 205us/sample - loss: 0.0470 - accuracy: 0.9842 - val_loss: 0.9911 - val_accuracy: 0.8363\n",
            "Epoch 41/50\n",
            "50000/50000 [==============================] - 10s 206us/sample - loss: 0.0492 - accuracy: 0.9842 - val_loss: 0.8507 - val_accuracy: 0.8462\n",
            "Epoch 42/50\n",
            "50000/50000 [==============================] - 10s 203us/sample - loss: 0.0479 - accuracy: 0.9849 - val_loss: 0.8616 - val_accuracy: 0.8355\n",
            "Epoch 43/50\n",
            "50000/50000 [==============================] - 10s 203us/sample - loss: 0.0458 - accuracy: 0.9855 - val_loss: 0.9118 - val_accuracy: 0.8306\n",
            "Epoch 44/50\n",
            "50000/50000 [==============================] - 10s 205us/sample - loss: 0.0457 - accuracy: 0.9851 - val_loss: 0.8447 - val_accuracy: 0.8372\n",
            "Epoch 45/50\n",
            "50000/50000 [==============================] - 10s 207us/sample - loss: 0.0451 - accuracy: 0.9857 - val_loss: 0.8155 - val_accuracy: 0.8458\n",
            "Epoch 46/50\n",
            "50000/50000 [==============================] - 10s 203us/sample - loss: 0.0471 - accuracy: 0.9851 - val_loss: 0.7980 - val_accuracy: 0.8388\n",
            "Epoch 47/50\n",
            "50000/50000 [==============================] - 10s 204us/sample - loss: 0.0408 - accuracy: 0.9872 - val_loss: 0.8113 - val_accuracy: 0.8491\n",
            "Epoch 48/50\n",
            "50000/50000 [==============================] - 10s 204us/sample - loss: 0.0402 - accuracy: 0.9870 - val_loss: 0.9588 - val_accuracy: 0.8303\n",
            "Epoch 49/50\n",
            "50000/50000 [==============================] - 11s 210us/sample - loss: 0.0426 - accuracy: 0.9866 - val_loss: 0.8398 - val_accuracy: 0.8463\n",
            "Epoch 50/50\n",
            "50000/50000 [==============================] - 10s 208us/sample - loss: 0.0448 - accuracy: 0.9866 - val_loss: 0.8360 - val_accuracy: 0.8515\n"
          ],
          "name": "stdout"
        }
      ]
    },
    {
      "cell_type": "markdown",
      "metadata": {
        "id": "yJTBmvgIU2w4",
        "colab_type": "text"
      },
      "source": [
        "# Step 4 : Making Predictions"
      ]
    },
    {
      "cell_type": "code",
      "metadata": {
        "id": "OUfI-INuBP8F",
        "colab_type": "code",
        "colab": {}
      },
      "source": [
        "ypred = model.predict(xtest)"
      ],
      "execution_count": 0,
      "outputs": []
    },
    {
      "cell_type": "code",
      "metadata": {
        "id": "DmbD-guiYMOF",
        "colab_type": "code",
        "outputId": "761fc775-59d9-41f9-b319-7e7e2eccc218",
        "colab": {
          "base_uri": "https://localhost:8080/",
          "height": 238
        }
      },
      "source": [
        "print(ypred)"
      ],
      "execution_count": 0,
      "outputs": [
        {
          "output_type": "stream",
          "text": [
            "[[6.1186165e-07 1.4045834e-06 8.5321481e-05 ... 2.2389624e-07\n",
            "  5.8395457e-08 9.3122232e-08]\n",
            " [5.5807846e-16 3.2194070e-11 3.0989315e-23 ... 2.0687923e-26\n",
            "  1.0000000e+00 3.3679836e-21]\n",
            " [1.7907934e-02 7.5964642e-01 8.6272374e-04 ... 5.1142257e-07\n",
            "  1.7678012e-01 4.2404272e-02]\n",
            " ...\n",
            " [2.8864649e-21 1.4459555e-23 3.6137943e-10 ... 1.8792149e-14\n",
            "  6.0510030e-23 4.9038655e-21]\n",
            " [1.0583240e-07 9.9999988e-01 9.4501562e-10 ... 1.8559422e-08\n",
            "  4.8981483e-12 3.7108865e-09]\n",
            " [2.7765993e-26 1.5594864e-27 2.3246256e-23 ... 1.0000000e+00\n",
            "  2.7228718e-28 2.0033304e-26]]\n"
          ],
          "name": "stdout"
        }
      ]
    },
    {
      "cell_type": "code",
      "metadata": {
        "id": "GnvN17iUYN4Z",
        "colab_type": "code",
        "colab": {}
      },
      "source": [
        "ypred=np.argmax(ypred,axis=1)"
      ],
      "execution_count": 0,
      "outputs": []
    },
    {
      "cell_type": "code",
      "metadata": {
        "id": "XNtunz0uYN_Y",
        "colab_type": "code",
        "outputId": "abaee7e5-bff5-47d2-d9ec-408d0a668c7c",
        "colab": {
          "base_uri": "https://localhost:8080/",
          "height": 34
        }
      },
      "source": [
        "print(ypred)"
      ],
      "execution_count": 0,
      "outputs": [
        {
          "output_type": "stream",
          "text": [
            "[3 8 1 ... 5 1 7]\n"
          ],
          "name": "stdout"
        }
      ]
    },
    {
      "cell_type": "code",
      "metadata": {
        "id": "fjzF7e10YSbZ",
        "colab_type": "code",
        "outputId": "1c1234bc-4325-450a-d5c3-517d687fb499",
        "colab": {
          "base_uri": "https://localhost:8080/",
          "height": 34
        }
      },
      "source": [
        "print(ypred[10],ytest[10])"
      ],
      "execution_count": 0,
      "outputs": [
        {
          "output_type": "stream",
          "text": [
            "0 0\n"
          ],
          "name": "stdout"
        }
      ]
    },
    {
      "cell_type": "markdown",
      "metadata": {
        "id": "_JmEuxKvU6FD",
        "colab_type": "text"
      },
      "source": [
        "# Step 5 : Evaluating Model"
      ]
    },
    {
      "cell_type": "code",
      "metadata": {
        "id": "5VO5ehJsU9gv",
        "colab_type": "code",
        "outputId": "0fdac51e-64e9-4ad3-8e04-5f6428797015",
        "colab": {
          "base_uri": "https://localhost:8080/",
          "height": 204
        }
      },
      "source": [
        "from sklearn.metrics import confusion_matrix, accuracy_score\n",
        "\n",
        "cm=confusion_matrix(ypred,ytest)\n",
        "print(cm)\n",
        "\n",
        "print(accuracy_score(ypred,ytest))"
      ],
      "execution_count": 0,
      "outputs": [
        {
          "output_type": "stream",
          "text": [
            "[[850   3  38  22   7   8   7  10  26   5]\n",
            " [ 16 941   1   4   3   6   4   2  24  51]\n",
            " [ 31   1 780  57  29  43  22  20   8   3]\n",
            " [  6   3  26 678  18  85  20  23   5   8]\n",
            " [ 12   2  67  46 873  36  18  32   6   1]\n",
            " [  5   0  29  99  10 768   4  15   2   2]\n",
            " [  4   1  42  57  31  11 917   1   6   5]\n",
            " [ 16   1  12  23  24  38   1 890   1   5]\n",
            " [ 29   7   3   7   4   2   3   0 905   7]\n",
            " [ 31  41   2   7   1   3   4   7  17 913]]\n",
            "0.8515\n"
          ],
          "name": "stdout"
        }
      ]
    },
    {
      "cell_type": "code",
      "metadata": {
        "id": "bj52kJX-YX-e",
        "colab_type": "code",
        "outputId": "47385c97-800c-41a6-ec1d-3970d2d6b875",
        "colab": {
          "base_uri": "https://localhost:8080/",
          "height": 282
        }
      },
      "source": [
        "# Plot loss per iteration\n",
        "import matplotlib.pyplot as plt\n",
        "plt.plot(r.history['loss'], label='Train loss')\n",
        "plt.plot(r.history['val_loss'], label='Test val_loss')\n",
        "plt.legend()\n"
      ],
      "execution_count": 0,
      "outputs": [
        {
          "output_type": "execute_result",
          "data": {
            "text/plain": [
              "<matplotlib.legend.Legend at 0x7fb88a657908>"
            ]
          },
          "metadata": {
            "tags": []
          },
          "execution_count": 25
        },
        {
          "output_type": "display_data",
          "data": {
            "image/png": "[encoded data removed]",
            "text/plain": [
              "<Figure size 432x288 with 1 Axes>"
            ]
          },
          "metadata": {
            "tags": [],
            "needs_background": "light"
          }
        }
      ]
    },
    {
      "cell_type": "code",
      "metadata": {
        "id": "xsYblX0dYa_F",
        "colab_type": "code",
        "outputId": "d9286c40-b8bc-4b9b-c69a-73b8730be4e0",
        "colab": {
          "base_uri": "https://localhost:8080/",
          "height": 282
        }
      },
      "source": [
        "# Plot loss per iteration\n",
        "import matplotlib.pyplot as plt\n",
        "plt.plot(r.history['accuracy'], label='Training accuracy')\n",
        "plt.plot(r.history['val_accuracy'], label=' Test accuracy')\n",
        "plt.legend()"
      ],
      "execution_count": 0,
      "outputs": [
        {
          "output_type": "execute_result",
          "data": {
            "text/plain": [
              "<matplotlib.legend.Legend at 0x7fb88a0f5b70>"
            ]
          },
          "metadata": {
            "tags": []
          },
          "execution_count": 26
        },
        {
          "output_type": "display_data",
          "data": {
            "image/png": "[encoded data removed]",
            "text/plain": [
              "<Figure size 432x288 with 1 Axes>"
            ]
          },
          "metadata": {
            "tags": [],
            "needs_background": "light"
          }
        }
      ]
    },
    {
      "cell_type": "markdown",
      "metadata": {
        "id": "zSl3Krq4YqY5",
        "colab_type": "text"
      },
      "source": [
        "# IMPROVED CIFAER10"
      ]
    },
    {
      "cell_type": "code",
      "metadata": {
        "id": "XmEx5g7pYdZf",
        "colab_type": "code",
        "colab": {}
      },
      "source": [
        "from tensorflow.keras.preprocessing.image import ImageDataGenerator"
      ],
      "execution_count": 0,
      "outputs": []
    },
    {
      "cell_type": "code",
      "metadata": {
        "id": "6hBf_q7qY3q9",
        "colab_type": "code",
        "colab": {}
      },
      "source": [
        "data_generator=ImageDataGenerator(width_shift_range=0.1,horizontal_flip=True,height_shift_range=0.1)"
      ],
      "execution_count": 0,
      "outputs": []
    },
    {
      "cell_type": "code",
      "metadata": {
        "id": "C8K_kHYBZJ72",
        "colab_type": "code",
        "colab": {}
      },
      "source": [
        "batch_size=32\n",
        "train_generator=data_generator.flow(xtrain,ytrain,batch_size=batch_size)"
      ],
      "execution_count": 0,
      "outputs": []
    },
    {
      "cell_type": "code",
      "metadata": {
        "id": "0xvbFQlEZerd",
        "colab_type": "code",
        "outputId": "08f5017a-2498-4941-a51b-fae5df45fc7f",
        "colab": {
          "base_uri": "https://localhost:8080/",
          "height": 1000
        }
      },
      "source": [
        "steps_per_epoch = xtrain.shape[0] // batch_size\n",
        "r1=model.fit(train_generator,epochs=50,steps_per_epoch=steps_per_epoch,validation_data=(xtest,ytest))"
      ],
      "execution_count": 0,
      "outputs": [
        {
          "output_type": "stream",
          "text": [
            "WARNING:tensorflow:sample_weight modes were coerced from\n",
            "  ...\n",
            "    to  \n",
            "  ['...']\n",
            "Train for 1562 steps, validate on 10000 samples\n",
            "Epoch 1/50\n",
            "1562/1562 [==============================] - 26s 17ms/step - loss: 0.5224 - accuracy: 0.8328 - val_loss: 0.5371 - val_accuracy: 0.8282\n",
            "Epoch 2/50\n",
            "1562/1562 [==============================] - 26s 16ms/step - loss: 0.4217 - accuracy: 0.8618 - val_loss: 0.4603 - val_accuracy: 0.8543\n",
            "Epoch 3/50\n",
            "1562/1562 [==============================] - 26s 17ms/step - loss: 0.3937 - accuracy: 0.8702 - val_loss: 0.4559 - val_accuracy: 0.8548\n",
            "Epoch 4/50\n",
            "1562/1562 [==============================] - 26s 17ms/step - loss: 0.3704 - accuracy: 0.8780 - val_loss: 0.4558 - val_accuracy: 0.8528\n",
            "Epoch 5/50\n",
            "1562/1562 [==============================] - 25s 16ms/step - loss: 0.3558 - accuracy: 0.8801 - val_loss: 0.4439 - val_accuracy: 0.8551\n",
            "Epoch 6/50\n",
            "1562/1562 [==============================] - 25s 16ms/step - loss: 0.3359 - accuracy: 0.8864 - val_loss: 0.4538 - val_accuracy: 0.8581\n",
            "Epoch 7/50\n",
            "1562/1562 [==============================] - 25s 16ms/step - loss: 0.3259 - accuracy: 0.8914 - val_loss: 0.4313 - val_accuracy: 0.8619\n",
            "Epoch 8/50\n",
            "1562/1562 [==============================] - 26s 16ms/step - loss: 0.3160 - accuracy: 0.8940 - val_loss: 0.4224 - val_accuracy: 0.8638\n",
            "Epoch 9/50\n",
            "1562/1562 [==============================] - 26s 16ms/step - loss: 0.3017 - accuracy: 0.9000 - val_loss: 0.4231 - val_accuracy: 0.8679\n",
            "Epoch 10/50\n",
            "1562/1562 [==============================] - 26s 16ms/step - loss: 0.2925 - accuracy: 0.9017 - val_loss: 0.4235 - val_accuracy: 0.8609\n",
            "Epoch 11/50\n",
            "1562/1562 [==============================] - 25s 16ms/step - loss: 0.2871 - accuracy: 0.9033 - val_loss: 0.4119 - val_accuracy: 0.8653\n",
            "Epoch 12/50\n",
            "1562/1562 [==============================] - 26s 16ms/step - loss: 0.2742 - accuracy: 0.9085 - val_loss: 0.4381 - val_accuracy: 0.8690\n",
            "Epoch 13/50\n",
            "1562/1562 [==============================] - 26s 17ms/step - loss: 0.2694 - accuracy: 0.9090 - val_loss: 0.4403 - val_accuracy: 0.8580\n",
            "Epoch 14/50\n",
            "1562/1562 [==============================] - 25s 16ms/step - loss: 0.2670 - accuracy: 0.9088 - val_loss: 0.4288 - val_accuracy: 0.8647\n",
            "Epoch 15/50\n",
            "1562/1562 [==============================] - 26s 17ms/step - loss: 0.2574 - accuracy: 0.9122 - val_loss: 0.4232 - val_accuracy: 0.8686\n",
            "Epoch 16/50\n",
            "1562/1562 [==============================] - 26s 17ms/step - loss: 0.2479 - accuracy: 0.9177 - val_loss: 0.4099 - val_accuracy: 0.8727\n",
            "Epoch 17/50\n",
            "1562/1562 [==============================] - 26s 17ms/step - loss: 0.2451 - accuracy: 0.9167 - val_loss: 0.4303 - val_accuracy: 0.8736\n",
            "Epoch 18/50\n",
            "1562/1562 [==============================] - 26s 17ms/step - loss: 0.2406 - accuracy: 0.9169 - val_loss: 0.4573 - val_accuracy: 0.8658\n",
            "Epoch 19/50\n",
            "1562/1562 [==============================] - 25s 16ms/step - loss: 0.2354 - accuracy: 0.9204 - val_loss: 0.4160 - val_accuracy: 0.8767\n",
            "Epoch 20/50\n",
            "1562/1562 [==============================] - 25s 16ms/step - loss: 0.2267 - accuracy: 0.9227 - val_loss: 0.4574 - val_accuracy: 0.8681\n",
            "Epoch 21/50\n",
            "1562/1562 [==============================] - 25s 16ms/step - loss: 0.2255 - accuracy: 0.9226 - val_loss: 0.4126 - val_accuracy: 0.8673\n",
            "Epoch 22/50\n",
            "1562/1562 [==============================] - 26s 16ms/step - loss: 0.2195 - accuracy: 0.9251 - val_loss: 0.4244 - val_accuracy: 0.8770\n",
            "Epoch 23/50\n",
            "1562/1562 [==============================] - 25s 16ms/step - loss: 0.2203 - accuracy: 0.9253 - val_loss: 0.4514 - val_accuracy: 0.8694\n",
            "Epoch 24/50\n",
            "1562/1562 [==============================] - 25s 16ms/step - loss: 0.2107 - accuracy: 0.9272 - val_loss: 0.4621 - val_accuracy: 0.8720\n",
            "Epoch 25/50\n",
            "1562/1562 [==============================] - 26s 17ms/step - loss: 0.2090 - accuracy: 0.9283 - val_loss: 0.4267 - val_accuracy: 0.8712\n",
            "Epoch 26/50\n",
            "1562/1562 [==============================] - 26s 16ms/step - loss: 0.2047 - accuracy: 0.9294 - val_loss: 0.3951 - val_accuracy: 0.8820\n",
            "Epoch 27/50\n",
            "1562/1562 [==============================] - 26s 17ms/step - loss: 0.1962 - accuracy: 0.9333 - val_loss: 0.4679 - val_accuracy: 0.8736\n",
            "Epoch 28/50\n",
            "1562/1562 [==============================] - 27s 17ms/step - loss: 0.2033 - accuracy: 0.9306 - val_loss: 0.4442 - val_accuracy: 0.8708\n",
            "Epoch 29/50\n",
            "1562/1562 [==============================] - 26s 16ms/step - loss: 0.1976 - accuracy: 0.9316 - val_loss: 0.4457 - val_accuracy: 0.8674\n",
            "Epoch 30/50\n",
            "1562/1562 [==============================] - 25s 16ms/step - loss: 0.1969 - accuracy: 0.9341 - val_loss: 0.4112 - val_accuracy: 0.8767\n",
            "Epoch 31/50\n",
            "1562/1562 [==============================] - 26s 16ms/step - loss: 0.1868 - accuracy: 0.9366 - val_loss: 0.4361 - val_accuracy: 0.8752\n",
            "Epoch 32/50\n",
            "1562/1562 [==============================] - 26s 16ms/step - loss: 0.1849 - accuracy: 0.9380 - val_loss: 0.4700 - val_accuracy: 0.8703\n",
            "Epoch 33/50\n",
            "1562/1562 [==============================] - 26s 16ms/step - loss: 0.1813 - accuracy: 0.9376 - val_loss: 0.4863 - val_accuracy: 0.8718\n",
            "Epoch 34/50\n",
            "1562/1562 [==============================] - 26s 16ms/step - loss: 0.1844 - accuracy: 0.9373 - val_loss: 0.4457 - val_accuracy: 0.8792\n",
            "Epoch 35/50\n",
            "1562/1562 [==============================] - 26s 16ms/step - loss: 0.1810 - accuracy: 0.9380 - val_loss: 0.4394 - val_accuracy: 0.8787\n",
            "Epoch 36/50\n",
            "1562/1562 [==============================] - 26s 16ms/step - loss: 0.1704 - accuracy: 0.9420 - val_loss: 0.5262 - val_accuracy: 0.8760\n",
            "Epoch 37/50\n",
            "1562/1562 [==============================] - 26s 16ms/step - loss: 0.1837 - accuracy: 0.9378 - val_loss: 0.4282 - val_accuracy: 0.8831\n",
            "Epoch 38/50\n",
            "1562/1562 [==============================] - 26s 16ms/step - loss: 0.1727 - accuracy: 0.9418 - val_loss: 0.4687 - val_accuracy: 0.8738\n",
            "Epoch 39/50\n",
            "1562/1562 [==============================] - 26s 16ms/step - loss: 0.1669 - accuracy: 0.9444 - val_loss: 0.5017 - val_accuracy: 0.8711\n",
            "Epoch 40/50\n",
            "1562/1562 [==============================] - 26s 17ms/step - loss: 0.1665 - accuracy: 0.9444 - val_loss: 0.4595 - val_accuracy: 0.8740\n",
            "Epoch 41/50\n",
            "1562/1562 [==============================] - 26s 17ms/step - loss: 0.1710 - accuracy: 0.9428 - val_loss: 0.4513 - val_accuracy: 0.8771\n",
            "Epoch 42/50\n",
            "1562/1562 [==============================] - 26s 17ms/step - loss: 0.1660 - accuracy: 0.9451 - val_loss: 0.4844 - val_accuracy: 0.8789\n",
            "Epoch 43/50\n",
            "1562/1562 [==============================] - 26s 17ms/step - loss: 0.1632 - accuracy: 0.9447 - val_loss: 0.5007 - val_accuracy: 0.8770\n",
            "Epoch 44/50\n",
            "1562/1562 [==============================] - 26s 17ms/step - loss: 0.1594 - accuracy: 0.9457 - val_loss: 0.4805 - val_accuracy: 0.8803\n",
            "Epoch 45/50\n",
            "1562/1562 [==============================] - 26s 17ms/step - loss: 0.1585 - accuracy: 0.9481 - val_loss: 0.5179 - val_accuracy: 0.8691\n",
            "Epoch 46/50\n",
            "1562/1562 [==============================] - 26s 17ms/step - loss: 0.1590 - accuracy: 0.9464 - val_loss: 0.4716 - val_accuracy: 0.8790\n",
            "Epoch 47/50\n",
            "1562/1562 [==============================] - 25s 16ms/step - loss: 0.1585 - accuracy: 0.9469 - val_loss: 0.4665 - val_accuracy: 0.8780\n",
            "Epoch 48/50\n",
            "1562/1562 [==============================] - 25s 16ms/step - loss: 0.1571 - accuracy: 0.9467 - val_loss: 0.4595 - val_accuracy: 0.8774\n",
            "Epoch 49/50\n",
            "1562/1562 [==============================] - 25s 16ms/step - loss: 0.1558 - accuracy: 0.9462 - val_loss: 0.4722 - val_accuracy: 0.8809\n",
            "Epoch 50/50\n",
            "1562/1562 [==============================] - 27s 17ms/step - loss: 0.1512 - accuracy: 0.9494 - val_loss: 0.4652 - val_accuracy: 0.8762\n"
          ],
          "name": "stdout"
        }
      ]
    },
    {
      "cell_type": "markdown",
      "metadata": {
        "id": "GKVQPauTaSw7",
        "colab_type": "text"
      },
      "source": [
        "## Model Evaluation"
      ]
    },
    {
      "cell_type": "code",
      "metadata": {
        "id": "aO52tEcZaADd",
        "colab_type": "code",
        "outputId": "269cc7dd-5de4-411f-a4cd-a23e8ab46734",
        "colab": {
          "base_uri": "https://localhost:8080/",
          "height": 283
        }
      },
      "source": [
        "# Plot loss per iteration\n",
        "import matplotlib.pyplot as plt\n",
        "plt.plot(r1.history['loss'], label='Train loss')\n",
        "plt.plot(r1.history['val_loss'], label='Test loss')\n",
        "plt.legend()"
      ],
      "execution_count": 0,
      "outputs": [
        {
          "output_type": "execute_result",
          "data": {
            "text/plain": [
              "<matplotlib.legend.Legend at 0x7fb8a17b8240>"
            ]
          },
          "metadata": {
            "tags": []
          },
          "execution_count": 33
        },
        {
          "output_type": "display_data",
          "data": {
            "image/png": "[encoded data removed]",
            "text/plain": [
              "<Figure size 432x288 with 1 Axes>"
            ]
          },
          "metadata": {
            "tags": [],
            "needs_background": "light"
          }
        }
      ]
    },
    {
      "cell_type": "code",
      "metadata": {
        "id": "eD-o0EcGaYWL",
        "colab_type": "code",
        "outputId": "843b12cf-59b0-47ce-8305-e649bf771e2d",
        "colab": {
          "base_uri": "https://localhost:8080/",
          "height": 282
        }
      },
      "source": [
        "# Plot accuracy per iteration\n",
        "plt.plot(r1.history['accuracy'], label='acc')\n",
        "plt.plot(r1.history['val_accuracy'], label='val_acc')\n",
        "plt.legend()"
      ],
      "execution_count": 0,
      "outputs": [
        {
          "output_type": "execute_result",
          "data": {
            "text/plain": [
              "<matplotlib.legend.Legend at 0x7fb8a175a7b8>"
            ]
          },
          "metadata": {
            "tags": []
          },
          "execution_count": 35
        },
        {
          "output_type": "display_data",
          "data": {
            "image/png": "[encoded data removed]",
            "text/plain": [
              "<Figure size 432x288 with 1 Axes>"
            ]
          },
          "metadata": {
            "tags": [],
            "needs_background": "light"
          }
        }
      ]
    },
    {
      "cell_type": "code",
      "metadata": {
        "id": "n6xLuFe_fEFt",
        "colab_type": "code",
        "outputId": "09b79c54-e937-4e4c-ee53-86c8f1fb7a1c",
        "colab": {
          "base_uri": "https://localhost:8080/",
          "height": 498
        }
      },
      "source": [
        "# Plot confusion matrix\n",
        "from sklearn.metrics import confusion_matrix\n",
        "import itertools\n",
        "\n",
        "def plot_confusion_matrix(cm, classes,\n",
        "                          normalize=False,\n",
        "                          title='Confusion matrix',\n",
        "                          cmap=plt.cm.Blues):\n",
        "  \"\"\"\n",
        "  This function prints and plots the confusion matrix.\n",
        "  Normalization can be applied by setting `normalize=True`.\n",
        "  \"\"\"\n",
        "  if normalize:\n",
        "      cm = cm.astype('float') / cm.sum(axis=1)[:, np.newaxis]\n",
        "      print(\"Normalized confusion matrix\")\n",
        "  else:\n",
        "      print('Confusion matrix, without normalization')\n",
        "\n",
        "  print(cm)\n",
        "\n",
        "  plt.imshow(cm, interpolation='nearest', cmap=cmap)\n",
        "  plt.title(title)\n",
        "  plt.colorbar()\n",
        "  tick_marks = np.arange(len(classes))\n",
        "  plt.xticks(tick_marks, classes, rotation=45)\n",
        "  plt.yticks(tick_marks, classes)\n",
        "\n",
        "  fmt = '.2f' if normalize else 'd'\n",
        "  thresh = cm.max() / 2.\n",
        "  for i, j in itertools.product(range(cm.shape[0]), range(cm.shape[1])):\n",
        "      plt.text(j, i, format(cm[i, j], fmt),\n",
        "               horizontalalignment=\"center\",\n",
        "               color=\"white\" if cm[i, j] > thresh else \"black\")\n",
        "\n",
        "  plt.tight_layout()\n",
        "  plt.ylabel('True label')\n",
        "  plt.xlabel('Predicted label')\n",
        "  plt.show()\n",
        "\n",
        "\n",
        "p_test = model.predict(xtest).argmax(axis=1)\n",
        "cm = confusion_matrix(ytest, p_test)\n",
        "plot_confusion_matrix(cm, list(range(10)))\n",
        "\n"
      ],
      "execution_count": 0,
      "outputs": [
        {
          "output_type": "stream",
          "text": [
            "Confusion matrix, without normalization\n",
            "[[871  10  29  11  16   7   5  11  23  17]\n",
            " [  2 952   1   2   0   1   0   1   7  34]\n",
            " [ 24   0 817  19  64  24  32  12   2   6]\n",
            " [ 11   2  26 679  70 126  46  21   5  14]\n",
            " [  2   1  17   5 924  12  23  15   0   1]\n",
            " [  4   2  22  65  40 820  15  26   2   4]\n",
            " [  2   1  30  12  23   6 918   2   3   3]\n",
            " [  6   1   8  13  28  21   0 916   1   6]\n",
            " [ 22  10   5   5   2   3   4   1 927  21]\n",
            " [  8  38   2   8   2   0   1   0   3 938]]\n"
          ],
          "name": "stdout"
        },
        {
          "output_type": "display_data",
          "data": {
            "image/png": "[encoded data removed]",
            "text/plain": [
              "<Figure size 432x288 with 2 Axes>"
            ]
          },
          "metadata": {
            "tags": [],
            "needs_background": "light"
          }
        }
      ]
    },
    {
      "cell_type": "code",
      "metadata": {
        "id": "RRNT7-y0fcjG",
        "colab_type": "code",
        "outputId": "2f937542-289b-40f7-ab98-64f21b4fa951",
        "colab": {
          "base_uri": "https://localhost:8080/",
          "height": 34
        }
      },
      "source": [
        "print(class_names)"
      ],
      "execution_count": 0,
      "outputs": [
        {
          "output_type": "stream",
          "text": [
            "['0: airplane', '1: automobile', '2: bird', '3: cat', '4: deer', '5: dog', '6: frog', '7: horse', '8: ship', '9: truck']\n"
          ],
          "name": "stdout"
        }
      ]
    },
    {
      "cell_type": "code",
      "metadata": {
        "id": "gMjbivgbfgO5",
        "colab_type": "code",
        "outputId": "8c8a447a-e7fe-4c8b-a940-2fda3f1300d6",
        "colab": {
          "base_uri": "https://localhost:8080/",
          "height": 281
        }
      },
      "source": [
        "# Show some misclassified examples\n",
        "misclassified_idx = np.where(p_test != ytest)[0]\n",
        "i = np.random.choice(misclassified_idx)\n",
        "plt.imshow(xtest[i], cmap='gray')\n",
        "plt.title(\"True label: %s Predicted: %s\" % (class_names[ytest[i]], class_names[p_test[i]]));"
      ],
      "execution_count": 0,
      "outputs": [
        {
          "output_type": "display_data",
          "data": {
            "image/png": "[encoded data removed]",
            "text/plain": [
              "<Figure size 432x288 with 1 Axes>"
            ]
          },
          "metadata": {
            "tags": [],
            "needs_background": "light"
          }
        }
      ]
    }
  ]
}